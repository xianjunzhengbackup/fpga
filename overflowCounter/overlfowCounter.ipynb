{
 "cells": [
  {
   "cell_type": "markdown",
   "metadata": {
    "hideCode": true,
    "hidePrompt": true
   },
   "source": [
    "Design a overflowCounter and assign output the LED[7:0] \n",
    "<br>input clk,reset \n",
    "<br>output led[7:0]"
   ]
  },
  {
   "cell_type": "code",
   "execution_count": null,
   "metadata": {
    "code_folding": [],
    "hideCode": true,
    "hidePrompt": true
   },
   "outputs": [],
   "source": [
    "`timescale 1ns / 1ps\n",
    "module overflowCounter(\n",
    "    input clk,\n",
    "    input reset,\n",
    "    output [7:0] led\n",
    "    );\n",
    "    reg [31:0] counter;\n",
    "    \n",
    "    always @(posedge clk) begin\n",
    "        if(reset == 1'b1) begin\n",
    "            counter= 32'b0;\n",
    "        end else begin\n",
    "            counter = counter + 1;\n",
    "        end\n",
    "        \n",
    "    end\n",
    "    \n",
    "    assign led = counter[31:16];\n",
    "endmodule"
   ]
  },
  {
   "cell_type": "markdown",
   "metadata": {
    "hideCode": true,
    "hidePrompt": true
   },
   "source": [
    "Hereunder is for constraint file"
   ]
  },
  {
   "cell_type": "code",
   "execution_count": null,
   "metadata": {
    "hideCode": true,
    "hidePrompt": true
   },
   "outputs": [],
   "source": [
    "set_property -dict {PACKAGE_PIN H17 IOSTANDARD LVCMOS33} [get_ports {led[0]}]\n",
    "set_property -dict {PACKAGE_PIN K15 IOSTANDARD LVCMOS33} [get_ports {led[1]}]\n",
    "set_property -dict {PACKAGE_PIN J13 IOSTANDARD LVCMOS33} [get_ports {led[2]}]\n",
    "set_property -dict {PACKAGE_PIN N14 IOSTANDARD LVCMOS33} [get_ports {led[3]}]\n",
    "set_property -dict {PACKAGE_PIN R18 IOSTANDARD LVCMOS33} [get_ports {led[4]}]\n",
    "set_property -dict {PACKAGE_PIN V17 IOSTANDARD LVCMOS33} [get_ports {led[5]}]\n",
    "set_property -dict {PACKAGE_PIN U17 IOSTANDARD LVCMOS33} [get_ports {led[6]}]\n",
    "set_property -dict {PACKAGE_PIN U16 IOSTANDARD LVCMOS33} [get_ports {led[7]}]\n",
    "\n",
    "set_property -dict {PACKAGE_PIN E3 IOSTANDARD LVCMOS33} [get_ports clk]\n",
    "create_clock -period 10.00 [get_ports clk]\n",
    "\n",
    "set_property -dict {PACKAGE_PIN J15 IOSTANDARD LVCMOS33} [get_ports reset]"
   ]
  },
  {
   "cell_type": "code",
   "execution_count": null,
   "metadata": {
    "hideCode": true,
    "hidePrompt": true
   },
   "outputs": [],
   "source": [
    "-dict can assign two property\n",
    "without -dict , we have to write something like this:\n",
    "set_property PACKAGE_PIN H17 get_ports {led[0]}\n",
    "set_property PACKAGE_PIN H17 IOSTANDARD LVCMOS33\n",
    "\n",
    "clk pin is special which need create_clock and assign period with 10ns\n",
    "\n",
    "About the naming the constraint file, Nexys4DDR_overflowCounter_constraints.xdc\n",
    "Nexys4DDR is hardware developement board, each constraint file consponds to a paticular hardware\n",
    "overflowCounter is project name, each constraint conspond to a paticular project"
   ]
  },
  {
   "cell_type": "markdown",
   "metadata": {
    "hideCode": true,
    "hidePrompt": true
   },
   "source": [
    "Design a complex overflowCounter with reset,enable and also could figure out frequency\n",
    "<br> input clk,reset,enable\n",
    "<br> divideClk"
   ]
  },
  {
   "cell_type": "code",
   "execution_count": null,
   "metadata": {
    "hideCode": true,
    "hidePrompt": true
   },
   "outputs": [],
   "source": [
    "`timescale 1ns / 1ps\n",
    "module ClockDivider\n",
    "#(parameter integer THRESHOLD=50_000_000)\n",
    "(\n",
    "    input wire clk,\n",
    "    input wire reset,\n",
    "    input wire enable,\n",
    "    output wire divideClk\n",
    "    );\n",
    "    \n",
    "    reg [31:0] counter;\n",
    "    reg out;\n",
    "    always @(posedge clk) begin\n",
    "        if( reset == 1'b0) begin\n",
    "            counter = 32'b0; \n",
    "            out =1'b0;       \n",
    "        end else if(enable == 1'b0) begin\n",
    "            counter = counter;\n",
    "        end else if( counter == THRESHOLD) begin\n",
    "            counter = 32'b0;\n",
    "            out = ~out;\n",
    "        end else begin\n",
    "            counter = counter + 1;\n",
    "        end\n",
    "    end\n",
    "   \n",
    "    assign divideClk = out;\n",
    "endmodule"
   ]
  },
  {
   "cell_type": "code",
   "execution_count": null,
   "metadata": {
    "hideCode": true,
    "hidePrompt": true
   },
   "outputs": [],
   "source": [
    "with parameter we could get any frequency we want\n",
    "period = THRESHOLD *2 ns"
   ]
  },
  {
   "cell_type": "code",
   "execution_count": null,
   "metadata": {},
   "outputs": [],
   "source": [
    "write a test file to test above module"
   ]
  }
 ],
 "metadata": {
  "hide_code_all_hidden": true,
  "kernelspec": {
   "display_name": "Python 3",
   "language": "python",
   "name": "python3"
  },
  "language_info": {
   "codemirror_mode": {
    "name": "ipython",
    "version": 3
   },
   "file_extension": ".py",
   "mimetype": "text/x-python",
   "name": "python",
   "nbconvert_exporter": "python",
   "pygments_lexer": "ipython3",
   "version": "3.6.2"
  }
 },
 "nbformat": 4,
 "nbformat_minor": 2
}
